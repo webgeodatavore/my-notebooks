{
 "cells": [
  {
   "cell_type": "markdown",
   "metadata": {},
   "source": [
    "# Consommer la GeoAPI pour Pandas/Geopandas\n",
    "\n",
    "Actuellement, l'Etat met à disposition des API pour obtenir des informations sur les communes, départements et régions de Métropole et des DROM.\n",
    "\n",
    "Pour les consommer, un certain nombre d'informations est disponible sur https://api.gouv.fr/explorer/geoapi/\n",
    "Si vous faites, un usage massif, merci de prévenir les gestionnaires comme suggéré dans les informations du lien ci-dessus.\n",
    "\n",
    "Pour les aspects techniques, voir la documentation de l'API https://docs.geo.api.gouv.fr/\n",
    "\n",
    "Il faut aussi noter qu'il existe un package R pour consommer la GeoAPI http://colinfay.me/rgeoapi/ pour information.\n",
    "\n",
    "\n",
    "\n",
    "Si vous avez des questions ou des besoins relatifs à ce projet, à l'OpenData dont OpenStreetMap et à la cartographie, en tant que professionnel, je peux vous aider et vous proposer mes services. Allez sur http://webgeodatavore.com ou mon compte Twitter [ThomasG77](http://twitter.com/ThomasG77) pour en savoir plus sur moi.\n"
   ]
  },
  {
   "cell_type": "markdown",
   "metadata": {},
   "source": [
    "## Installation à effectuer en ligne de commande (avec sudo si nécessaire)\n",
    "\n",
    "    pip install pyyaml requests fiona pandas geopandas pysal"
   ]
  },
  {
   "cell_type": "code",
   "execution_count": 1,
   "metadata": {
    "collapsed": false
   },
   "outputs": [
    {
     "name": "stderr",
     "output_type": "stream",
     "text": [
      "/usr/local/lib/python2.7/dist-packages/matplotlib/font_manager.py:273: UserWarning: Matplotlib is building the font cache using fc-list. This may take a moment.\n",
      "  warnings.warn('Matplotlib is building the font cache using fc-list. This may take a moment.')\n"
     ]
    }
   ],
   "source": [
    "# Import pour l'ensemble du notebook Python\n",
    "# Modules natifs\n",
    "import json\n",
    "import unicodedata\n",
    "try:\n",
    "    from urllib.parse import urlencode, quote\n",
    "except ImportError:\n",
    "    from urllib import urlencode, quote\n",
    "\n",
    "\n",
    "# Modules tiers\n",
    "import yaml\n",
    "import requests\n",
    "import fiona\n",
    "from pandas import pandas as pd\n",
    "from geopandas import geopandas as gpd\n",
    "\n",
    "# Module pour afficher les tables HTML depuis Jupyter\n",
    "from IPython.display import HTML\n",
    "\n",
    "# Chargement spécifique lié au notebook\n",
    "%matplotlib inline"
   ]
  },
  {
   "cell_type": "markdown",
   "metadata": {},
   "source": [
    "## Régions"
   ]
  },
  {
   "cell_type": "code",
   "execution_count": 2,
   "metadata": {
    "collapsed": false
   },
   "outputs": [
    {
     "name": "stdout",
     "output_type": "stream",
     "text": [
      "(dtype('int64'), dtype('O'))\n"
     ]
    },
    {
     "data": {
      "text/html": [
       "<table border=\"1\" class=\"dataframe\">\n",
       "  <thead>\n",
       "    <tr style=\"text-align: right;\">\n",
       "      <th></th>\n",
       "      <th>code</th>\n",
       "      <th>nom</th>\n",
       "    </tr>\n",
       "  </thead>\n",
       "  <tbody>\n",
       "    <tr>\n",
       "      <th>0</th>\n",
       "      <td>1</td>\n",
       "      <td>Guadeloupe</td>\n",
       "    </tr>\n",
       "    <tr>\n",
       "      <th>1</th>\n",
       "      <td>2</td>\n",
       "      <td>Martinique</td>\n",
       "    </tr>\n",
       "    <tr>\n",
       "      <th>2</th>\n",
       "      <td>3</td>\n",
       "      <td>Guyane</td>\n",
       "    </tr>\n",
       "    <tr>\n",
       "      <th>3</th>\n",
       "      <td>4</td>\n",
       "      <td>La Réunion</td>\n",
       "    </tr>\n",
       "    <tr>\n",
       "      <th>4</th>\n",
       "      <td>6</td>\n",
       "      <td>Mayotte</td>\n",
       "    </tr>\n",
       "    <tr>\n",
       "      <th>5</th>\n",
       "      <td>11</td>\n",
       "      <td>Île-de-France</td>\n",
       "    </tr>\n",
       "    <tr>\n",
       "      <th>6</th>\n",
       "      <td>24</td>\n",
       "      <td>Centre-Val de Loire</td>\n",
       "    </tr>\n",
       "    <tr>\n",
       "      <th>7</th>\n",
       "      <td>27</td>\n",
       "      <td>Bourgogne-Franche-Comté</td>\n",
       "    </tr>\n",
       "    <tr>\n",
       "      <th>8</th>\n",
       "      <td>28</td>\n",
       "      <td>Normandie</td>\n",
       "    </tr>\n",
       "    <tr>\n",
       "      <th>9</th>\n",
       "      <td>32</td>\n",
       "      <td>Nord-Pas-de-Calais-Picardie</td>\n",
       "    </tr>\n",
       "    <tr>\n",
       "      <th>10</th>\n",
       "      <td>44</td>\n",
       "      <td>Alsace-Champagne-Ardenne-Lorraine</td>\n",
       "    </tr>\n",
       "    <tr>\n",
       "      <th>11</th>\n",
       "      <td>52</td>\n",
       "      <td>Pays de la Loire</td>\n",
       "    </tr>\n",
       "    <tr>\n",
       "      <th>12</th>\n",
       "      <td>53</td>\n",
       "      <td>Bretagne</td>\n",
       "    </tr>\n",
       "    <tr>\n",
       "      <th>13</th>\n",
       "      <td>75</td>\n",
       "      <td>Aquitaine-Limousin-Poitou-Charentes</td>\n",
       "    </tr>\n",
       "    <tr>\n",
       "      <th>14</th>\n",
       "      <td>76</td>\n",
       "      <td>Languedoc-Roussillon-Midi-Pyrénées</td>\n",
       "    </tr>\n",
       "    <tr>\n",
       "      <th>15</th>\n",
       "      <td>84</td>\n",
       "      <td>Auvergne-Rhône-Alpes</td>\n",
       "    </tr>\n",
       "    <tr>\n",
       "      <th>16</th>\n",
       "      <td>93</td>\n",
       "      <td>Provence-Alpes-Côte d'Azur</td>\n",
       "    </tr>\n",
       "    <tr>\n",
       "      <th>17</th>\n",
       "      <td>94</td>\n",
       "      <td>Corse</td>\n",
       "    </tr>\n",
       "  </tbody>\n",
       "</table>"
      ],
      "text/plain": [
       "<IPython.core.display.HTML object>"
      ]
     },
     "execution_count": 2,
     "metadata": {},
     "output_type": "execute_result"
    }
   ],
   "source": [
    "# Toutes les régions (code + nom) depuis l'API\n",
    "df = pd.read_json('https://geo.api.gouv.fr/regions')\n",
    "\n",
    "print(df['code'].dtype, df['nom'].dtype)\n",
    "\n",
    "HTML(df.to_html())"
   ]
  },
  {
   "cell_type": "code",
   "execution_count": 3,
   "metadata": {
    "collapsed": false
   },
   "outputs": [
    {
     "data": {
      "text/html": [
       "<table border=\"1\" class=\"dataframe\">\n",
       "  <thead>\n",
       "    <tr style=\"text-align: right;\">\n",
       "      <th></th>\n",
       "      <th>_score</th>\n",
       "      <th>code</th>\n",
       "      <th>nom</th>\n",
       "    </tr>\n",
       "  </thead>\n",
       "  <tbody>\n",
       "    <tr>\n",
       "      <th>0</th>\n",
       "      <td>0.494226</td>\n",
       "      <td>52</td>\n",
       "      <td>Pays de la Loire</td>\n",
       "    </tr>\n",
       "    <tr>\n",
       "      <th>1</th>\n",
       "      <td>0.467545</td>\n",
       "      <td>24</td>\n",
       "      <td>Centre-Val de Loire</td>\n",
       "    </tr>\n",
       "  </tbody>\n",
       "</table>"
      ],
      "text/plain": [
       "<IPython.core.display.HTML object>"
      ]
     },
     "execution_count": 3,
     "metadata": {},
     "output_type": "execute_result"
    }
   ],
   "source": [
    "# Recherche des régions par nom\n",
    "params = urlencode({\"nom\": \"loire\"})\n",
    "\n",
    "encoded_url = 'https://geo.api.gouv.fr/regions?%s' % params\n",
    "df1 = pd.read_json(encoded_url)\n",
    "\n",
    "HTML(df1.to_html())"
   ]
  },
  {
   "cell_type": "code",
   "execution_count": 4,
   "metadata": {
    "collapsed": false
   },
   "outputs": [
    {
     "data": {
      "text/html": [
       "<table border=\"1\" class=\"dataframe\">\n",
       "  <thead>\n",
       "    <tr style=\"text-align: right;\">\n",
       "      <th></th>\n",
       "      <th>code</th>\n",
       "      <th>nom</th>\n",
       "    </tr>\n",
       "  </thead>\n",
       "  <tbody>\n",
       "    <tr>\n",
       "      <th>0</th>\n",
       "      <td>24</td>\n",
       "      <td>Centre-Val de Loire</td>\n",
       "    </tr>\n",
       "  </tbody>\n",
       "</table>"
      ],
      "text/plain": [
       "<IPython.core.display.HTML object>"
      ]
     },
     "execution_count": 4,
     "metadata": {},
     "output_type": "execute_result"
    }
   ],
   "source": [
    "# Region par code\n",
    "req = requests.get('http://geo.api.gouv.fr/regions/24')\n",
    "df2 = pd.DataFrame([req.json()])\n",
    "HTML(df2.to_html())"
   ]
  },
  {
   "cell_type": "markdown",
   "metadata": {},
   "source": [
    "## Départements"
   ]
  },
  {
   "cell_type": "code",
   "execution_count": 5,
   "metadata": {
    "collapsed": false
   },
   "outputs": [
    {
     "data": {
      "text/html": [
       "<table border=\"1\" class=\"dataframe\">\n",
       "  <thead>\n",
       "    <tr style=\"text-align: right;\">\n",
       "      <th></th>\n",
       "      <th>code</th>\n",
       "      <th>codeRegion</th>\n",
       "      <th>nom</th>\n",
       "    </tr>\n",
       "  </thead>\n",
       "  <tbody>\n",
       "    <tr>\n",
       "      <th>0</th>\n",
       "      <td>44</td>\n",
       "      <td>52</td>\n",
       "      <td>Loire-Atlantique</td>\n",
       "    </tr>\n",
       "    <tr>\n",
       "      <th>1</th>\n",
       "      <td>49</td>\n",
       "      <td>52</td>\n",
       "      <td>Maine-et-Loire</td>\n",
       "    </tr>\n",
       "    <tr>\n",
       "      <th>2</th>\n",
       "      <td>53</td>\n",
       "      <td>52</td>\n",
       "      <td>Mayenne</td>\n",
       "    </tr>\n",
       "    <tr>\n",
       "      <th>3</th>\n",
       "      <td>72</td>\n",
       "      <td>52</td>\n",
       "      <td>Sarthe</td>\n",
       "    </tr>\n",
       "    <tr>\n",
       "      <th>4</th>\n",
       "      <td>85</td>\n",
       "      <td>52</td>\n",
       "      <td>Vendée</td>\n",
       "    </tr>\n",
       "  </tbody>\n",
       "</table>"
      ],
      "text/plain": [
       "<IPython.core.display.HTML object>"
      ]
     },
     "execution_count": 5,
     "metadata": {},
     "output_type": "execute_result"
    }
   ],
   "source": [
    "# Départements d'une région depuis son code exact\n",
    "df3 = pd.read_json('https://geo.api.gouv.fr/regions/52/departements')\n",
    "HTML(df3.to_html())"
   ]
  },
  {
   "cell_type": "code",
   "execution_count": 6,
   "metadata": {
    "collapsed": false
   },
   "outputs": [
    {
     "data": {
      "text/html": [
       "<div>\n",
       "<table border=\"1\" class=\"dataframe\">\n",
       "  <thead>\n",
       "    <tr style=\"text-align: right;\">\n",
       "      <th></th>\n",
       "      <th>code</th>\n",
       "      <th>codeRegion</th>\n",
       "      <th>nom</th>\n",
       "    </tr>\n",
       "  </thead>\n",
       "  <tbody>\n",
       "    <tr>\n",
       "      <th>0</th>\n",
       "      <td>01</td>\n",
       "      <td>84</td>\n",
       "      <td>Ain</td>\n",
       "    </tr>\n",
       "    <tr>\n",
       "      <th>1</th>\n",
       "      <td>02</td>\n",
       "      <td>32</td>\n",
       "      <td>Aisne</td>\n",
       "    </tr>\n",
       "    <tr>\n",
       "      <th>2</th>\n",
       "      <td>03</td>\n",
       "      <td>84</td>\n",
       "      <td>Allier</td>\n",
       "    </tr>\n",
       "    <tr>\n",
       "      <th>3</th>\n",
       "      <td>04</td>\n",
       "      <td>93</td>\n",
       "      <td>Alpes-de-Haute-Provence</td>\n",
       "    </tr>\n",
       "    <tr>\n",
       "      <th>4</th>\n",
       "      <td>05</td>\n",
       "      <td>93</td>\n",
       "      <td>Hautes-Alpes</td>\n",
       "    </tr>\n",
       "  </tbody>\n",
       "</table>\n",
       "</div>"
      ],
      "text/plain": [
       "  code  codeRegion                      nom\n",
       "0   01          84                      Ain\n",
       "1   02          32                    Aisne\n",
       "2   03          84                   Allier\n",
       "3   04          93  Alpes-de-Haute-Provence\n",
       "4   05          93             Hautes-Alpes"
      ]
     },
     "execution_count": 6,
     "metadata": {},
     "output_type": "execute_result"
    }
   ],
   "source": [
    "# Liste des départements\n",
    "df4 = pd.read_json('https://geo.api.gouv.fr/departements')\n",
    "\n",
    "df4.head()"
   ]
  },
  {
   "cell_type": "code",
   "execution_count": 7,
   "metadata": {
    "collapsed": false
   },
   "outputs": [
    {
     "data": {
      "text/html": [
       "<div>\n",
       "<table border=\"1\" class=\"dataframe\">\n",
       "  <thead>\n",
       "    <tr style=\"text-align: right;\">\n",
       "      <th></th>\n",
       "      <th>_score</th>\n",
       "      <th>code</th>\n",
       "      <th>codeRegion</th>\n",
       "      <th>nom</th>\n",
       "    </tr>\n",
       "  </thead>\n",
       "  <tbody>\n",
       "    <tr>\n",
       "      <th>0</th>\n",
       "      <td>0.800749</td>\n",
       "      <td>45</td>\n",
       "      <td>24</td>\n",
       "      <td>Loiret</td>\n",
       "    </tr>\n",
       "    <tr>\n",
       "      <th>1</th>\n",
       "      <td>0.599000</td>\n",
       "      <td>42</td>\n",
       "      <td>84</td>\n",
       "      <td>Loire</td>\n",
       "    </tr>\n",
       "    <tr>\n",
       "      <th>2</th>\n",
       "      <td>0.439779</td>\n",
       "      <td>43</td>\n",
       "      <td>84</td>\n",
       "      <td>Haute-Loire</td>\n",
       "    </tr>\n",
       "    <tr>\n",
       "      <th>3</th>\n",
       "      <td>0.337130</td>\n",
       "      <td>44</td>\n",
       "      <td>52</td>\n",
       "      <td>Loire-Atlantique</td>\n",
       "    </tr>\n",
       "    <tr>\n",
       "      <th>4</th>\n",
       "      <td>0.324477</td>\n",
       "      <td>37</td>\n",
       "      <td>24</td>\n",
       "      <td>Indre-et-Loire</td>\n",
       "    </tr>\n",
       "  </tbody>\n",
       "</table>\n",
       "</div>"
      ],
      "text/plain": [
       "     _score  code  codeRegion               nom\n",
       "0  0.800749    45          24            Loiret\n",
       "1  0.599000    42          84             Loire\n",
       "2  0.439779    43          84       Haute-Loire\n",
       "3  0.337130    44          52  Loire-Atlantique\n",
       "4  0.324477    37          24    Indre-et-Loire"
      ]
     },
     "execution_count": 7,
     "metadata": {},
     "output_type": "execute_result"
    }
   ],
   "source": [
    "# Recherche des départements par nom\n",
    "df5 = pd.read_json('https://geo.api.gouv.fr/departements?nom=loire')\n",
    "\n",
    "df5.head()"
   ]
  },
  {
   "cell_type": "code",
   "execution_count": 8,
   "metadata": {
    "collapsed": false
   },
   "outputs": [
    {
     "data": {
      "text/html": [
       "<div>\n",
       "<table border=\"1\" class=\"dataframe\">\n",
       "  <thead>\n",
       "    <tr style=\"text-align: right;\">\n",
       "      <th></th>\n",
       "      <th>code</th>\n",
       "      <th>codeRegion</th>\n",
       "      <th>nom</th>\n",
       "    </tr>\n",
       "  </thead>\n",
       "  <tbody>\n",
       "    <tr>\n",
       "      <th>0</th>\n",
       "      <td>73</td>\n",
       "      <td>84</td>\n",
       "      <td>Savoie</td>\n",
       "    </tr>\n",
       "  </tbody>\n",
       "</table>\n",
       "</div>"
      ],
      "text/plain": [
       "   code  codeRegion     nom\n",
       "0    73          84  Savoie"
      ]
     },
     "execution_count": 8,
     "metadata": {},
     "output_type": "execute_result"
    }
   ],
   "source": [
    "# Recherche des départements par code\n",
    "df6 = pd.read_json('https://geo.api.gouv.fr/departements?code=73')\n",
    "\n",
    "df6.head()"
   ]
  },
  {
   "cell_type": "code",
   "execution_count": 9,
   "metadata": {
    "collapsed": false
   },
   "outputs": [
    {
     "data": {
      "text/html": [
       "<table border=\"1\" class=\"dataframe\">\n",
       "  <thead>\n",
       "    <tr style=\"text-align: right;\">\n",
       "      <th></th>\n",
       "      <th>code</th>\n",
       "      <th>codeRegion</th>\n",
       "      <th>nom</th>\n",
       "    </tr>\n",
       "  </thead>\n",
       "  <tbody>\n",
       "    <tr>\n",
       "      <th>0</th>\n",
       "      <td>1</td>\n",
       "      <td>84</td>\n",
       "      <td>Ain</td>\n",
       "    </tr>\n",
       "    <tr>\n",
       "      <th>1</th>\n",
       "      <td>3</td>\n",
       "      <td>84</td>\n",
       "      <td>Allier</td>\n",
       "    </tr>\n",
       "    <tr>\n",
       "      <th>2</th>\n",
       "      <td>7</td>\n",
       "      <td>84</td>\n",
       "      <td>Ardèche</td>\n",
       "    </tr>\n",
       "    <tr>\n",
       "      <th>3</th>\n",
       "      <td>15</td>\n",
       "      <td>84</td>\n",
       "      <td>Cantal</td>\n",
       "    </tr>\n",
       "    <tr>\n",
       "      <th>4</th>\n",
       "      <td>26</td>\n",
       "      <td>84</td>\n",
       "      <td>Drôme</td>\n",
       "    </tr>\n",
       "    <tr>\n",
       "      <th>5</th>\n",
       "      <td>38</td>\n",
       "      <td>84</td>\n",
       "      <td>Isère</td>\n",
       "    </tr>\n",
       "    <tr>\n",
       "      <th>6</th>\n",
       "      <td>42</td>\n",
       "      <td>84</td>\n",
       "      <td>Loire</td>\n",
       "    </tr>\n",
       "    <tr>\n",
       "      <th>7</th>\n",
       "      <td>43</td>\n",
       "      <td>84</td>\n",
       "      <td>Haute-Loire</td>\n",
       "    </tr>\n",
       "    <tr>\n",
       "      <th>8</th>\n",
       "      <td>63</td>\n",
       "      <td>84</td>\n",
       "      <td>Puy-de-Dôme</td>\n",
       "    </tr>\n",
       "    <tr>\n",
       "      <th>9</th>\n",
       "      <td>69</td>\n",
       "      <td>84</td>\n",
       "      <td>Rhône</td>\n",
       "    </tr>\n",
       "    <tr>\n",
       "      <th>10</th>\n",
       "      <td>73</td>\n",
       "      <td>84</td>\n",
       "      <td>Savoie</td>\n",
       "    </tr>\n",
       "    <tr>\n",
       "      <th>11</th>\n",
       "      <td>74</td>\n",
       "      <td>84</td>\n",
       "      <td>Haute-Savoie</td>\n",
       "    </tr>\n",
       "  </tbody>\n",
       "</table>"
      ],
      "text/plain": [
       "<IPython.core.display.HTML object>"
      ]
     },
     "execution_count": 9,
     "metadata": {},
     "output_type": "execute_result"
    }
   ],
   "source": [
    "# Recherche des départements par code de région\n",
    "df7 = pd.read_json('https://geo.api.gouv.fr/departements?codeRegion=84')\n",
    "\n",
    "HTML(df7.to_html())"
   ]
  },
  {
   "cell_type": "code",
   "execution_count": 10,
   "metadata": {
    "collapsed": false
   },
   "outputs": [
    {
     "data": {
      "text/html": [
       "<table border=\"1\" class=\"dataframe\">\n",
       "  <thead>\n",
       "    <tr style=\"text-align: right;\">\n",
       "      <th></th>\n",
       "      <th>code</th>\n",
       "      <th>codeRegion</th>\n",
       "      <th>nom</th>\n",
       "      <th>nomRegion</th>\n",
       "    </tr>\n",
       "  </thead>\n",
       "  <tbody>\n",
       "    <tr>\n",
       "      <th>0</th>\n",
       "      <td>44</td>\n",
       "      <td>52</td>\n",
       "      <td>Loire-Atlantique</td>\n",
       "      <td>Pays de la Loire</td>\n",
       "    </tr>\n",
       "  </tbody>\n",
       "</table>"
      ],
      "text/plain": [
       "<IPython.core.display.HTML object>"
      ]
     },
     "execution_count": 10,
     "metadata": {},
     "output_type": "execute_result"
    }
   ],
   "source": [
    "# Informations d'un département\n",
    "req = requests.get('https://geo.api.gouv.fr/departements/44?fields=nom,code,codeRegion,region')\n",
    "filtered = req.json()\n",
    "filtered['nomRegion'] = filtered['region']['nom']\n",
    "filtered.pop('region', None)\n",
    "\n",
    "df8 = pd.DataFrame([filtered])\n",
    "HTML(df8.to_html())"
   ]
  },
  {
   "cell_type": "markdown",
   "metadata": {},
   "source": [
    "## Communes"
   ]
  },
  {
   "cell_type": "code",
   "execution_count": 11,
   "metadata": {
    "collapsed": false
   },
   "outputs": [
    {
     "data": {
      "text/html": [
       "<div>\n",
       "<table border=\"1\" class=\"dataframe\">\n",
       "  <thead>\n",
       "    <tr style=\"text-align: right;\">\n",
       "      <th></th>\n",
       "      <th>code</th>\n",
       "      <th>codeDepartement</th>\n",
       "      <th>codeRegion</th>\n",
       "      <th>nom</th>\n",
       "      <th>population</th>\n",
       "      <th>surface</th>\n",
       "      <th>x</th>\n",
       "      <th>y</th>\n",
       "    </tr>\n",
       "  </thead>\n",
       "  <tbody>\n",
       "    <tr>\n",
       "      <th>0</th>\n",
       "      <td>44001</td>\n",
       "      <td>44</td>\n",
       "      <td>52</td>\n",
       "      <td>Abbaretz</td>\n",
       "      <td>1984</td>\n",
       "      <td>6232</td>\n",
       "      <td>-1.495055</td>\n",
       "      <td>47.552699</td>\n",
       "    </tr>\n",
       "    <tr>\n",
       "      <th>1</th>\n",
       "      <td>44002</td>\n",
       "      <td>44</td>\n",
       "      <td>52</td>\n",
       "      <td>Aigrefeuille-sur-Maine</td>\n",
       "      <td>3516</td>\n",
       "      <td>1470</td>\n",
       "      <td>-1.413858</td>\n",
       "      <td>47.074195</td>\n",
       "    </tr>\n",
       "    <tr>\n",
       "      <th>2</th>\n",
       "      <td>44003</td>\n",
       "      <td>44</td>\n",
       "      <td>52</td>\n",
       "      <td>Ancenis</td>\n",
       "      <td>7474</td>\n",
       "      <td>2004</td>\n",
       "      <td>-1.178178</td>\n",
       "      <td>47.382618</td>\n",
       "    </tr>\n",
       "    <tr>\n",
       "      <th>3</th>\n",
       "      <td>44163</td>\n",
       "      <td>44</td>\n",
       "      <td>52</td>\n",
       "      <td>Vair-sur-Loire</td>\n",
       "      <td>4491</td>\n",
       "      <td>4937</td>\n",
       "      <td>-1.117662</td>\n",
       "      <td>47.408449</td>\n",
       "    </tr>\n",
       "    <tr>\n",
       "      <th>4</th>\n",
       "      <td>44005</td>\n",
       "      <td>44</td>\n",
       "      <td>52</td>\n",
       "      <td>Chaumes-en-Retz</td>\n",
       "      <td>6503</td>\n",
       "      <td>7764</td>\n",
       "      <td>-1.919205</td>\n",
       "      <td>47.145218</td>\n",
       "    </tr>\n",
       "  </tbody>\n",
       "</table>\n",
       "</div>"
      ],
      "text/plain": [
       "    code codeDepartement codeRegion                     nom  population  \\\n",
       "0  44001              44         52                Abbaretz        1984   \n",
       "1  44002              44         52  Aigrefeuille-sur-Maine        3516   \n",
       "2  44003              44         52                 Ancenis        7474   \n",
       "3  44163              44         52          Vair-sur-Loire        4491   \n",
       "4  44005              44         52         Chaumes-en-Retz        6503   \n",
       "\n",
       "   surface         x          y  \n",
       "0     6232 -1.495055  47.552699  \n",
       "1     1470 -1.413858  47.074195  \n",
       "2     2004 -1.178178  47.382618  \n",
       "3     4937 -1.117662  47.408449  \n",
       "4     7764 -1.919205  47.145218  "
      ]
     },
     "execution_count": 11,
     "metadata": {},
     "output_type": "execute_result"
    }
   ],
   "source": [
    "# Communes appartenant à un département\n",
    "params = {\n",
    "    'fields': ','.join(['nom', 'code', 'centre', 'surface', 'codeDepartement', 'codeRegion', 'population']),\n",
    "    'format': 'json',\n",
    "    'geometry': 'centre'\n",
    "}\n",
    "\n",
    "req = requests.get('https://geo.api.gouv.fr/departements/44/communes?%s' % urlencode(params))\n",
    "communes = req.json()\n",
    "for commune in communes:\n",
    "    commune['x'] = commune['centre']['coordinates'][0]\n",
    "    commune['y'] = commune['centre']['coordinates'][1]\n",
    "    commune.pop('centre', None)\n",
    "\n",
    "df9 = pd.DataFrame(communes)\n",
    "df9.head()"
   ]
  },
  {
   "cell_type": "code",
   "execution_count": 12,
   "metadata": {
    "collapsed": false
   },
   "outputs": [
    {
     "data": {
      "text/html": [
       "<div>\n",
       "<table border=\"1\" class=\"dataframe\">\n",
       "  <thead>\n",
       "    <tr style=\"text-align: right;\">\n",
       "      <th></th>\n",
       "      <th>code</th>\n",
       "      <th>codeDepartement</th>\n",
       "      <th>codeRegion</th>\n",
       "      <th>geometry</th>\n",
       "      <th>nom</th>\n",
       "      <th>population</th>\n",
       "      <th>surface</th>\n",
       "    </tr>\n",
       "  </thead>\n",
       "  <tbody>\n",
       "    <tr>\n",
       "      <th>0</th>\n",
       "      <td>44001</td>\n",
       "      <td>44</td>\n",
       "      <td>52</td>\n",
       "      <td>POINT (-1.49505512783497 47.55269872437454)</td>\n",
       "      <td>Abbaretz</td>\n",
       "      <td>1984</td>\n",
       "      <td>6232</td>\n",
       "    </tr>\n",
       "    <tr>\n",
       "      <th>1</th>\n",
       "      <td>44002</td>\n",
       "      <td>44</td>\n",
       "      <td>52</td>\n",
       "      <td>POINT (-1.413857807423431 47.07419473881576)</td>\n",
       "      <td>Aigrefeuille-sur-Maine</td>\n",
       "      <td>3516</td>\n",
       "      <td>1470</td>\n",
       "    </tr>\n",
       "    <tr>\n",
       "      <th>2</th>\n",
       "      <td>44003</td>\n",
       "      <td>44</td>\n",
       "      <td>52</td>\n",
       "      <td>POINT (-1.178177611876991 47.38261768284986)</td>\n",
       "      <td>Ancenis</td>\n",
       "      <td>7474</td>\n",
       "      <td>2004</td>\n",
       "    </tr>\n",
       "    <tr>\n",
       "      <th>3</th>\n",
       "      <td>44163</td>\n",
       "      <td>44</td>\n",
       "      <td>52</td>\n",
       "      <td>POINT (-1.117662238939072 47.40844931335979)</td>\n",
       "      <td>Vair-sur-Loire</td>\n",
       "      <td>4491</td>\n",
       "      <td>4937</td>\n",
       "    </tr>\n",
       "    <tr>\n",
       "      <th>4</th>\n",
       "      <td>44005</td>\n",
       "      <td>44</td>\n",
       "      <td>52</td>\n",
       "      <td>POINT (-1.919205150833175 47.1452183290674)</td>\n",
       "      <td>Chaumes-en-Retz</td>\n",
       "      <td>6503</td>\n",
       "      <td>7764</td>\n",
       "    </tr>\n",
       "  </tbody>\n",
       "</table>\n",
       "</div>"
      ],
      "text/plain": [
       "    code codeDepartement codeRegion  \\\n",
       "0  44001              44         52   \n",
       "1  44002              44         52   \n",
       "2  44003              44         52   \n",
       "3  44163              44         52   \n",
       "4  44005              44         52   \n",
       "\n",
       "                                       geometry                     nom  \\\n",
       "0   POINT (-1.49505512783497 47.55269872437454)                Abbaretz   \n",
       "1  POINT (-1.413857807423431 47.07419473881576)  Aigrefeuille-sur-Maine   \n",
       "2  POINT (-1.178177611876991 47.38261768284986)                 Ancenis   \n",
       "3  POINT (-1.117662238939072 47.40844931335979)          Vair-sur-Loire   \n",
       "4   POINT (-1.919205150833175 47.1452183290674)         Chaumes-en-Retz   \n",
       "\n",
       "   population  surface  \n",
       "0        1984     6232  \n",
       "1        3516     1470  \n",
       "2        7474     2004  \n",
       "3        4491     4937  \n",
       "4        6503     7764  "
      ]
     },
     "execution_count": 12,
     "metadata": {},
     "output_type": "execute_result"
    }
   ],
   "source": [
    "# Communes appartenant à un département avec géométrie point et retour GeoJSON\n",
    "params = {\n",
    "    'fields': ','.join(['nom', 'code', 'surface', 'codeDepartement', 'codeRegion', 'population']),\n",
    "    'format': 'geojson',\n",
    "    'geometry': 'centre'\n",
    "}\n",
    "\n",
    "req = requests.get('https://geo.api.gouv.fr/departements/44/communes?%s' % urlencode(params))\n",
    "communes = req.json()\n",
    "\n",
    "gdf = gpd.GeoDataFrame.from_features(communes['features'])\n",
    "gdf.head()"
   ]
  },
  {
   "cell_type": "code",
   "execution_count": 13,
   "metadata": {
    "collapsed": false
   },
   "outputs": [
    {
     "data": {
      "text/plain": [
       "<matplotlib.axes._subplots.AxesSubplot at 0x7ff1bafc9250>"
      ]
     },
     "execution_count": 13,
     "metadata": {},
     "output_type": "execute_result"
    },
    {
     "data": {
      "image/png": "[encoded data removed]",
      "text/plain": [
       "<matplotlib.figure.Figure at 0x7ff1c64b3610>"
      ]
     },
     "metadata": {},
     "output_type": "display_data"
    }
   ],
   "source": [
    "# Communes appartenant à un département avec géométrie polygone (\"contour\" dans l'API) et retour GeoJSON\n",
    "params = {\n",
    "    'fields': ','.join(['nom', 'code', 'surface', 'codeDepartement', 'codeRegion', 'population']),\n",
    "    'format': 'geojson',\n",
    "    'geometry': 'contour'\n",
    "}\n",
    "\n",
    "req = requests.get('http://geo.api.gouv.fr/departements/44/communes?%s' % urlencode(params))\n",
    "communes = req.json()\n",
    "\n",
    "gdf1 = gpd.GeoDataFrame.from_features(communes['features'])\n",
    "HTML(gdf1.to_html())\n",
    "\n",
    "# Rendu cartographique simple\n",
    "gdf1['densite'] = gdf1['population'] /  gdf1['surface']\n",
    "\n",
    "# Nécessite PYSAL\n",
    "kw = dict(column='densite', k=6, cmap='Blues')\n",
    "gdf1.crs = fiona.crs.from_epsg(4326)\n",
    "gdf1 = gdf1.to_crs({'init': 'epsg:2154'})\n",
    "ax = gdf1.plot(scheme='QUANTILES', legend=True, **kw)\n",
    "ax.figure.set_size_inches((15, 8))\n",
    "ax"
   ]
  },
  {
   "cell_type": "code",
   "execution_count": 14,
   "metadata": {
    "collapsed": false
   },
   "outputs": [
    {
     "data": {
      "text/html": [
       "<table border=\"1\" class=\"dataframe\">\n",
       "  <thead>\n",
       "    <tr style=\"text-align: right;\">\n",
       "      <th></th>\n",
       "      <th>code</th>\n",
       "      <th>codeDepartement</th>\n",
       "      <th>codeRegion</th>\n",
       "      <th>codesPostaux</th>\n",
       "      <th>nom</th>\n",
       "      <th>population</th>\n",
       "    </tr>\n",
       "  </thead>\n",
       "  <tbody>\n",
       "    <tr>\n",
       "      <th>0</th>\n",
       "      <td>44109</td>\n",
       "      <td>44</td>\n",
       "      <td>52</td>\n",
       "      <td>44000</td>\n",
       "      <td>Nantes</td>\n",
       "      <td>292718</td>\n",
       "    </tr>\n",
       "    <tr>\n",
       "      <th>1</th>\n",
       "      <td>44109</td>\n",
       "      <td>44</td>\n",
       "      <td>52</td>\n",
       "      <td>44100</td>\n",
       "      <td>Nantes</td>\n",
       "      <td>292718</td>\n",
       "    </tr>\n",
       "    <tr>\n",
       "      <th>2</th>\n",
       "      <td>44109</td>\n",
       "      <td>44</td>\n",
       "      <td>52</td>\n",
       "      <td>44200</td>\n",
       "      <td>Nantes</td>\n",
       "      <td>292718</td>\n",
       "    </tr>\n",
       "    <tr>\n",
       "      <th>3</th>\n",
       "      <td>44109</td>\n",
       "      <td>44</td>\n",
       "      <td>52</td>\n",
       "      <td>44300</td>\n",
       "      <td>Nantes</td>\n",
       "      <td>292718</td>\n",
       "    </tr>\n",
       "  </tbody>\n",
       "</table>"
      ],
      "text/plain": [
       "<IPython.core.display.HTML object>"
      ]
     },
     "execution_count": 14,
     "metadata": {},
     "output_type": "execute_result"
    }
   ],
   "source": [
    "# Informations sur une commune depuis son code INSEE\n",
    "df10 = pd.read_json('https://geo.api.gouv.fr/communes/44109')\n",
    "\n",
    "# On voit qu'il y a plusieurs lignes du fait des codes postaux\n",
    "HTML(df10.to_html())"
   ]
  },
  {
   "cell_type": "code",
   "execution_count": 15,
   "metadata": {
    "collapsed": false
   },
   "outputs": [
    {
     "data": {
      "text/html": [
       "<table border=\"1\" class=\"dataframe\">\n",
       "  <thead>\n",
       "    <tr style=\"text-align: right;\">\n",
       "      <th></th>\n",
       "      <th>code</th>\n",
       "      <th>codeDepartement</th>\n",
       "      <th>codeRegion</th>\n",
       "      <th>codesPostaux</th>\n",
       "      <th>nom</th>\n",
       "      <th>population</th>\n",
       "    </tr>\n",
       "  </thead>\n",
       "  <tbody>\n",
       "    <tr>\n",
       "      <th>0</th>\n",
       "      <td>44109</td>\n",
       "      <td>44</td>\n",
       "      <td>52</td>\n",
       "      <td>[44000, 44100, 44200, 44300]</td>\n",
       "      <td>Nantes</td>\n",
       "      <td>292718</td>\n",
       "    </tr>\n",
       "  </tbody>\n",
       "</table>"
      ],
      "text/plain": [
       "<IPython.core.display.HTML object>"
      ]
     },
     "execution_count": 15,
     "metadata": {},
     "output_type": "execute_result"
    }
   ],
   "source": [
    "# Recherche de communes par code INSEE\n",
    "df11 = pd.read_json('https://geo.api.gouv.fr/communes?code=44109')\n",
    "\n",
    "# Dans ce cas, on a les codes postaux dans une liste pour le champ codePostaux\n",
    "HTML(df11.to_html())"
   ]
  },
  {
   "cell_type": "code",
   "execution_count": 16,
   "metadata": {
    "collapsed": false
   },
   "outputs": [
    {
     "data": {
      "text/html": [
       "<table border=\"1\" class=\"dataframe\">\n",
       "  <thead>\n",
       "    <tr style=\"text-align: right;\">\n",
       "      <th></th>\n",
       "      <th>_score</th>\n",
       "      <th>code</th>\n",
       "      <th>codeDepartement</th>\n",
       "      <th>codeRegion</th>\n",
       "      <th>codesPostaux</th>\n",
       "      <th>nom</th>\n",
       "      <th>population</th>\n",
       "    </tr>\n",
       "  </thead>\n",
       "  <tbody>\n",
       "    <tr>\n",
       "      <th>0</th>\n",
       "      <td>0.463827</td>\n",
       "      <td>69118</td>\n",
       "      <td>69</td>\n",
       "      <td>84</td>\n",
       "      <td>[69700]</td>\n",
       "      <td>Loire-sur-Rhône</td>\n",
       "      <td>2529</td>\n",
       "    </tr>\n",
       "    <tr>\n",
       "      <th>1</th>\n",
       "      <td>0.454632</td>\n",
       "      <td>3207</td>\n",
       "      <td>3</td>\n",
       "      <td>84</td>\n",
       "      <td>[03470]</td>\n",
       "      <td>Pierrefitte-sur-Loire</td>\n",
       "      <td>508</td>\n",
       "    </tr>\n",
       "    <tr>\n",
       "      <th>2</th>\n",
       "      <td>0.423143</td>\n",
       "      <td>43084</td>\n",
       "      <td>43</td>\n",
       "      <td>84</td>\n",
       "      <td>[43370]</td>\n",
       "      <td>Cussac-sur-Loire</td>\n",
       "      <td>1728</td>\n",
       "    </tr>\n",
       "    <tr>\n",
       "      <th>3</th>\n",
       "      <td>0.421083</td>\n",
       "      <td>42015</td>\n",
       "      <td>42</td>\n",
       "      <td>84</td>\n",
       "      <td>[42670]</td>\n",
       "      <td>Belmont-de-la-Loire</td>\n",
       "      <td>1577</td>\n",
       "    </tr>\n",
       "    <tr>\n",
       "      <th>4</th>\n",
       "      <td>0.415896</td>\n",
       "      <td>43241</td>\n",
       "      <td>43</td>\n",
       "      <td>84</td>\n",
       "      <td>[43370]</td>\n",
       "      <td>Solignac-sur-Loire</td>\n",
       "      <td>1239</td>\n",
       "    </tr>\n",
       "    <tr>\n",
       "      <th>5</th>\n",
       "      <td>0.405972</td>\n",
       "      <td>43119</td>\n",
       "      <td>43</td>\n",
       "      <td>84</td>\n",
       "      <td>[43800]</td>\n",
       "      <td>Lavoûte-sur-Loire</td>\n",
       "      <td>841</td>\n",
       "    </tr>\n",
       "    <tr>\n",
       "      <th>6</th>\n",
       "      <td>0.405972</td>\n",
       "      <td>3177</td>\n",
       "      <td>3</td>\n",
       "      <td>84</td>\n",
       "      <td>[03470]</td>\n",
       "      <td>Monétay-sur-Loire</td>\n",
       "      <td>277</td>\n",
       "    </tr>\n",
       "    <tr>\n",
       "      <th>7</th>\n",
       "      <td>0.405972</td>\n",
       "      <td>43049</td>\n",
       "      <td>43</td>\n",
       "      <td>84</td>\n",
       "      <td>[43800]</td>\n",
       "      <td>Chamalières-sur-Loire</td>\n",
       "      <td>495</td>\n",
       "    </tr>\n",
       "    <tr>\n",
       "      <th>8</th>\n",
       "      <td>0.405972</td>\n",
       "      <td>43137</td>\n",
       "      <td>43</td>\n",
       "      <td>84</td>\n",
       "      <td>[43120]</td>\n",
       "      <td>Monistrol-sur-Loire</td>\n",
       "      <td>8788</td>\n",
       "    </tr>\n",
       "    <tr>\n",
       "      <th>9</th>\n",
       "      <td>0.389784</td>\n",
       "      <td>43012</td>\n",
       "      <td>43</td>\n",
       "      <td>84</td>\n",
       "      <td>[43110]</td>\n",
       "      <td>Aurec-sur-Loire</td>\n",
       "      <td>5919</td>\n",
       "    </tr>\n",
       "    <tr>\n",
       "      <th>10</th>\n",
       "      <td>0.389784</td>\n",
       "      <td>3119</td>\n",
       "      <td>3</td>\n",
       "      <td>84</td>\n",
       "      <td>[03230]</td>\n",
       "      <td>Gannay-sur-Loire</td>\n",
       "      <td>405</td>\n",
       "    </tr>\n",
       "    <tr>\n",
       "      <th>11</th>\n",
       "      <td>0.388711</td>\n",
       "      <td>42239</td>\n",
       "      <td>42</td>\n",
       "      <td>84</td>\n",
       "      <td>[42155]</td>\n",
       "      <td>Saint-Jean-Saint-Maurice-sur-Loire</td>\n",
       "      <td>1128</td>\n",
       "    </tr>\n",
       "  </tbody>\n",
       "</table>"
      ],
      "text/plain": [
       "<IPython.core.display.HTML object>"
      ]
     },
     "execution_count": 16,
     "metadata": {},
     "output_type": "execute_result"
    }
   ],
   "source": [
    "# Recherche de communes par nom et code de région (pour montrer qu'on peut combiner)\n",
    "df12 = pd.read_json('https://geo.api.gouv.fr/communes?nom=loire&codeRegion=84')\n",
    "\n",
    "HTML(df12.to_html())"
   ]
  },
  {
   "cell_type": "markdown",
   "metadata": {},
   "source": [
    "## Swagger\n",
    "\n",
    "La plupart des exemples ont été créés en inspectant l'API de la GeoAPI via [Swagger](http://swagger.io).\n",
    "\n",
    "Swagger est une spécification qui permet de spécifier les entrées d'une API c'et à dire quelles URLs, quels paramètres doivent être passés dans un navigateur ou via un appel http via un langage de programmation et quelles réponses doi.\n",
    "Il existe des surcouches graphiques pour masquer la complexité de la spécification pour que les utilisateurs finaux puissent utiliser l'API en se posant des questions métier (répondre à une question) et pas technique.\n",
    "\n",
    "Ainsi pour inspecter la GeoAPI, allez sur http://petstore.swagger.io (qui est un visualisateur public) puis coller l'URL suivante https://gist.githubusercontent.com/ThomasG77/021ea577deb5766d2e6cfb824f710eeb/raw/5872182790107b86ac3911b92f0abbe55603fd8b/definition.json et cliquer sur \"Explore\" (voir capture d'écran ci-dessous).\n",
    "\n",
    "Ensuite, explorez l'API!\n",
    "\n",
    "![](images/swagger-instructions-interface-graphique.png)\n",
    "\n",
    "PS: Le JSON fournit en lien est issu d'une conversion depuis un fichier YAML avec la spécification Swagger du code de l'application de la GeoAPI) du fait que le visualisateur public ne consomme pas du YAML mais du JSON."
   ]
  },
  {
   "cell_type": "markdown",
   "metadata": {},
   "source": [
    "## En cours (incomplet)"
   ]
  },
  {
   "cell_type": "code",
   "execution_count": 17,
   "metadata": {
    "collapsed": false
   },
   "outputs": [],
   "source": [
    "# Alternative en utilisant Swagger pour créer une API cliente correspondant à l'API\n",
    "req = requests.get('https://github.com/sgmap/api-communes/raw/master/definition.yml')\n",
    "\n",
    "content = yaml.load(req.content)\n",
    "\n",
    "# On enlève les accents dans les titres et les tags car le code generator de swagger\n",
    "# supprime les lettres avec accents plutôt que les passer en équivalent ascii\n",
    "\n",
    "# On enlève les accents du titre\n",
    "content['info']['title'] = unicodedata.normalize('NFD', unicode(content['info']['title'])).encode('ascii', 'ignore')\n",
    "# On boucle sur les chemins et les méthodes HTTP\n",
    "for path_key in content['paths'].keys():\n",
    "    for method in content['paths'][path_key].keys():\n",
    "        tags = content['paths'][path_key][method]['tags']\n",
    "        # On ne garde qu'un tag pour ne pas dupliquer dans l'API générée les points d'entrées \n",
    "        if len(tags) > 1:\n",
    "            content['paths'][path_key][method]['tags'] = tags[:1]\n",
    "        # On enlève les accents\n",
    "        if len(content['paths'][path_key][method]['tags']) == 1:\n",
    "            content['paths'][path_key][method]['tags'][0] = unicodedata.normalize('NFD', unicode(content['paths'][path_key][method]['tags'][0])).encode('ascii', 'ignore')\n",
    "\n",
    "with open('definition.json','wb') as f:\n",
    "    json.dump(content, f, indent=4)\n"
   ]
  },
  {
   "cell_type": "markdown",
   "metadata": {},
   "source": [
    "### Générer un client JavaScript\n",
    "\n",
    "```\n",
    "java -jar modules/swagger-codegen-cli/target/swagger-codegen-cli.jar generate -i /home/thomasg/git/geoapi-data-gouv-fr/definition.json -l javascript -o /tmp/geoapi-client/javascript\n",
    "```\n",
    "\n",
    "### Générer un client Python\n",
    "```\n",
    "java -jar modules/swagger-codegen-cli/target/swagger-codegen-cli.jar generate -i /home/thomasg/git/geoapi-data-gouv-fr/definition.json -l python -o /tmp/geoapi-client/python\n",
    "```"
   ]
  },
  {
   "cell_type": "code",
   "execution_count": null,
   "metadata": {
    "collapsed": true
   },
   "outputs": [],
   "source": []
  }
 ],
 "metadata": {
  "kernelspec": {
   "display_name": "Python 2",
   "language": "python",
   "name": "python2"
  },
  "language_info": {
   "codemirror_mode": {
    "name": "ipython",
    "version": 2
   },
   "file_extension": ".py",
   "mimetype": "text/x-python",
   "name": "python",
   "nbconvert_exporter": "python",
   "pygments_lexer": "ipython2",
   "version": "2.7.12"
  }
 },
 "nbformat": 4,
 "nbformat_minor": 0
}
